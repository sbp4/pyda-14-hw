{
 "cells": [
  {
   "cell_type": "code",
   "execution_count": null,
   "metadata": {},
   "outputs": [],
   "source": [
    "number_1 = 10 \n",
    "number_2 = 1 \n",
    "number_3 = 2"
   ]
  },
  {
   "cell_type": "code",
   "execution_count": null,
   "metadata": {},
   "outputs": [],
   "source": [
    "# консольный пользовательский \"интерфейс\"\n",
    "\n",
    "while True:\n",
    "    user_input = input ('Введите команду')\n",
    "    if user_input == 'do':\n",
    "        pass\n",
    "    elif user_input == 'do2':\n",
    "        pass\n",
    "    elif user_input == 'q':\n",
    "        break\n",
    "        "
   ]
  },
  {
   "cell_type": "code",
   "execution_count": 3,
   "metadata": {
    "scrolled": true
   },
   "outputs": [
    {
     "name": "stdout",
     "output_type": "stream",
     "text": [
      "The unique elements of the input list using set():n\n",
      "40\n",
      "10\n",
      "80\n",
      "50\n",
      "20\n",
      "60\n",
      "30\n"
     ]
    }
   ],
   "source": [
    "my_list = [10, 20, 30, 20, 10, 50, 60, 40, 80, 50, 40]\n",
    "\n",
    "set_res = set (my_list) \n",
    "print(\"The unique elements of the input list using set():n\") \n",
    "list_res = (list(set_res))\n",
    "  \n",
    "for item in list_res: \n",
    "    print(item)"
   ]
  },
  {
   "cell_type": "code",
   "execution_count": null,
   "metadata": {},
   "outputs": [],
   "source": [
    "data = [ \n",
    "    [13, 25, 23, 34], \n",
    "    [45, 32, 44, 47], \n",
    "    [12, 33, 23, 95], \n",
    "    [13, 53, 34, 35]\n",
    "]\n",
    "\n"
   ]
  }
 ],
 "metadata": {
  "kernelspec": {
   "display_name": "Python 3",
   "language": "python",
   "name": "python3"
  },
  "language_info": {
   "codemirror_mode": {
    "name": "ipython",
    "version": 3
   },
   "file_extension": ".py",
   "mimetype": "text/x-python",
   "name": "python",
   "nbconvert_exporter": "python",
   "pygments_lexer": "ipython3",
   "version": "3.8.3"
  }
 },
 "nbformat": 4,
 "nbformat_minor": 4
}

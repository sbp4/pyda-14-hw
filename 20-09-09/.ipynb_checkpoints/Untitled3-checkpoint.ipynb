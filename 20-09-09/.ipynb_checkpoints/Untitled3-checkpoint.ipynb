{
 "cells": [
  {
   "cell_type": "code",
   "execution_count": 3,
   "metadata": {},
   "outputs": [
    {
     "name": "stdout",
     "output_type": "stream",
     "text": [
      "odd\n"
     ]
    }
   ],
   "source": [
    "num = 5\n",
    "\n",
    "if num % 2 == 0:\n",
    "    print('even')\n",
    "else:\n",
    "    print('odd')"
   ]
  },
  {
   "cell_type": "code",
   "execution_count": 4,
   "metadata": {},
   "outputs": [
    {
     "name": "stdout",
     "output_type": "stream",
     "text": [
      "odd\n"
     ]
    }
   ],
   "source": [
    "# если у вас в блоке if и в блоке else есть только по одной операции, \n",
    "# то такое условие можно записать в одну строку\n",
    "print('even') if num % 2 == 0 else print('odd')"
   ]
  },
  {
   "cell_type": "code",
   "execution_count": 31,
   "metadata": {},
   "outputs": [],
   "source": [
    "# Практика. Найти максимальное число среди представленных\n",
    "number_1 = 10\n",
    "number_2 = 67\n",
    "number_3 = 50"
   ]
  },
  {
   "cell_type": "code",
   "execution_count": 32,
   "metadata": {},
   "outputs": [
    {
     "name": "stdout",
     "output_type": "stream",
     "text": [
      "Максимальное число: 67\n"
     ]
    }
   ],
   "source": [
    "maximum = number_1\n",
    "\n",
    "if number_2 > maximum:\n",
    "    maximum = number_2\n",
    "if number_3 > maximum:\n",
    "    maximum = number_3\n",
    "\n",
    "print(f\"Максимальное число: {maximum}\")"
   ]
  },
  {
   "cell_type": "code",
   "execution_count": 33,
   "metadata": {},
   "outputs": [
    {
     "name": "stdout",
     "output_type": "stream",
     "text": [
      "67\n"
     ]
    }
   ],
   "source": [
    "\n",
    "max_number = number_1\n",
    "\n",
    "if number_2 > max_number:\n",
    "\n",
    "    max_number = number_2\n",
    "\n",
    "if number_3 > max_number:\n",
    "\n",
    "    max_number = number_3\n",
    "\n",
    "print(max_number)"
   ]
  },
  {
   "cell_type": "code",
   "execution_count": 34,
   "metadata": {},
   "outputs": [
    {
     "name": "stdout",
     "output_type": "stream",
     "text": [
      "67\n"
     ]
    }
   ],
   "source": [
    "print(max(number_1, number_2, number_3))"
   ]
  },
  {
   "cell_type": "code",
   "execution_count": 40,
   "metadata": {},
   "outputs": [
    {
     "name": "stdout",
     "output_type": "stream",
     "text": [
      "max number =  30\n"
     ]
    }
   ],
   "source": [
    "n1 = 30\n",
    "n2 = 5\n",
    "n3 = 10 \n",
    "if (n1 > n2) & (n1 > n3): \n",
    "    print('max number = ', n1) \n",
    "elif (n2 > n1) & (n2 > n3): \n",
    "    print('max number = ', n2) \n",
    "elif (n3 > n1) & (n3 > n2): \n",
    "    print('max number = ', n3)"
   ]
  },
  {
   "cell_type": "code",
   "execution_count": 41,
   "metadata": {},
   "outputs": [
    {
     "name": "stdout",
     "output_type": "stream",
     "text": [
      "67\n"
     ]
    }
   ],
   "source": [
    "if (number_1 > number_2) and (number_1 > number_3):\n",
    "    print(number_1)\n",
    "elif (number_3 > number_2) and (number_3 > number_1):\n",
    "    print(number_3)\n",
    "else:\n",
    "    print(number_2)"
   ]
  },
  {
   "cell_type": "code",
   "execution_count": null,
   "metadata": {},
   "outputs": [],
   "source": [
    "# консольный пользовательский \"интерфейс\"\n",
    "while True:\n",
    "    user_input = input('Введите команду')\n",
    "    if user_input == 'do':\n",
    "        pass\n",
    "    elif user_input == 'do2':\n",
    "        pass\n",
    "    elif user_input == 'q':\n",
    "        break"
   ]
  },
  {
   "cell_type": "code",
   "execution_count": null,
   "metadata": {},
   "outputs": [],
   "source": []
  },
  {
   "cell_type": "code",
   "execution_count": 42,
   "metadata": {},
   "outputs": [],
   "source": [
    "boys = ['John', 'James', 'Robert']\n",
    "girls = ['Linda', 'Jane', 'Kate']"
   ]
  },
  {
   "cell_type": "code",
   "execution_count": 49,
   "metadata": {},
   "outputs": [
    {
     "name": "stdout",
     "output_type": "stream",
     "text": [
      "['Jane', 'Kate', 'Linda']\n",
      "None\n",
      "None\n"
     ]
    }
   ],
   "source": [
    "girls.sort()\n",
    "print(girls)\n",
    "print(girls.sort())\n",
    "\n",
    "new_girls = girls.sort()\n",
    "print(new_girls)"
   ]
  },
  {
   "cell_type": "code",
   "execution_count": 48,
   "metadata": {},
   "outputs": [
    {
     "name": "stdout",
     "output_type": "stream",
     "text": [
      "['John', 'James', 'Robert']\n",
      "['James', 'John', 'Robert']\n",
      "['James', 'John', 'Robert']\n"
     ]
    }
   ],
   "source": [
    "sorted(boys)\n",
    "print(boys)\n",
    "print(sorted(boys))\n",
    "\n",
    "new_boys = sorted(boys)\n",
    "print(new_boys)"
   ]
  },
  {
   "cell_type": "code",
   "execution_count": 52,
   "metadata": {},
   "outputs": [],
   "source": [
    "# Практика. Удалим все дубли из спика\n",
    "my_list = [10, 20, 30, 20, 10, 50, 60, 40, 80, 50, 40]"
   ]
  },
  {
   "cell_type": "code",
   "execution_count": 53,
   "metadata": {},
   "outputs": [
    {
     "name": "stdout",
     "output_type": "stream",
     "text": [
      "[10, 20, 30, 50, 60, 40, 80]\n"
     ]
    }
   ],
   "source": [
    "my_list = [10, 20, 30, 20, 10, 50, 60, 40, 80, 50, 40]\n",
    "new_list = []\n",
    "for i in my_list:\n",
    "    if i not in new_list:\n",
    "        new_list.append(i)\n",
    "print(new_list)"
   ]
  },
  {
   "cell_type": "code",
   "execution_count": 55,
   "metadata": {},
   "outputs": [
    {
     "name": "stdout",
     "output_type": "stream",
     "text": [
      "[10, 60, 80, 50, 40, 30, 20, 20, 20, 20]\n"
     ]
    }
   ],
   "source": [
    "# не стоит менять длину объекта (удалять/добавлять элементы) при итерации по нему\n",
    "my_list = [10, 20, 30, 20, 10, 50, 60, 40, 80, 50, 40, 40, 40, 30, 20, 20, 20, 20]\n",
    "for num in my_list:\n",
    "    if my_list.count(num) > 1:\n",
    "        my_list.remove(num)\n",
    "print(my_list)"
   ]
  },
  {
   "cell_type": "code",
   "execution_count": 56,
   "metadata": {},
   "outputs": [
    {
     "name": "stdout",
     "output_type": "stream",
     "text": [
      "[10, 60, 80, 50, 40, 30, 20]\n"
     ]
    }
   ],
   "source": [
    "# копию списка можно создать пустым срезом. Итерируемся по копии, а меняем исходный объект\n",
    "list_copy = my_list[:]\n",
    "\n",
    "for num in list_copy:\n",
    "    if my_list.count(num) > 1:\n",
    "        my_list.remove(num)\n",
    "print(my_list)"
   ]
  },
  {
   "cell_type": "code",
   "execution_count": 2,
   "metadata": {},
   "outputs": [],
   "source": [
    "# Практика. Посчитаем сумму элементов по главной диагонали в матрице\n",
    "data = [\n",
    "    [13, 25, 23, 34],\n",
    "    [45, 32, 44, 47],\n",
    "    [12, 33, 23, 95],\n",
    "    [13, 53, 34, 35]\n",
    "]"
   ]
  },
  {
   "cell_type": "code",
   "execution_count": 70,
   "metadata": {},
   "outputs": [
    {
     "name": "stdout",
     "output_type": "stream",
     "text": [
      "103\n"
     ]
    }
   ],
   "source": [
    "data = [\n",
    "    [13, 25, 23, 34],\n",
    "    [45, 32, 44, 47],\n",
    "    [12, 33, 23, 95],\n",
    "    [13, 53, 34, 35]\n",
    "]\n",
    "\n",
    "index = 0\n",
    "sum_ = 0\n",
    "for row in data:\n",
    "    sum_ += row[index]\n",
    "    index += 1\n",
    "print(sum_)"
   ]
  },
  {
   "cell_type": "code",
   "execution_count": 62,
   "metadata": {},
   "outputs": [
    {
     "name": "stdout",
     "output_type": "stream",
     "text": [
      "103\n"
     ]
    }
   ],
   "source": [
    "sum_ = 0\n",
    "for ind_row in range(len(data)):\n",
    "    sum_ += data[ind_row][ind_row]\n",
    "print(sum_)"
   ]
  },
  {
   "cell_type": "code",
   "execution_count": 64,
   "metadata": {},
   "outputs": [
    {
     "ename": "TypeError",
     "evalue": "'int' object is not callable",
     "output_type": "error",
     "traceback": [
      "\u001b[1;31m---------------------------------------------------------------------------\u001b[0m",
      "\u001b[1;31mTypeError\u001b[0m                                 Traceback (most recent call last)",
      "\u001b[1;32m<ipython-input-64-adaf817d6b53>\u001b[0m in \u001b[0;36m<module>\u001b[1;34m\u001b[0m\n\u001b[0;32m      4\u001b[0m     \u001b[0mlist_matrix\u001b[0m\u001b[1;33m.\u001b[0m\u001b[0mappend\u001b[0m\u001b[1;33m(\u001b[0m\u001b[0mx\u001b[0m\u001b[1;33m[\u001b[0m\u001b[0mi\u001b[0m\u001b[1;33m]\u001b[0m\u001b[1;33m)\u001b[0m\u001b[1;33m\u001b[0m\u001b[1;33m\u001b[0m\u001b[0m\n\u001b[0;32m      5\u001b[0m     \u001b[0mi\u001b[0m \u001b[1;33m+=\u001b[0m \u001b[1;36m1\u001b[0m\u001b[1;33m\u001b[0m\u001b[1;33m\u001b[0m\u001b[0m\n\u001b[1;32m----> 6\u001b[1;33m \u001b[0mprint\u001b[0m\u001b[1;33m(\u001b[0m\u001b[0msum\u001b[0m\u001b[1;33m(\u001b[0m\u001b[0mlist_matrix\u001b[0m\u001b[1;33m)\u001b[0m\u001b[1;33m)\u001b[0m\u001b[1;33m\u001b[0m\u001b[1;33m\u001b[0m\u001b[0m\n\u001b[0m",
      "\u001b[1;31mTypeError\u001b[0m: 'int' object is not callable"
     ]
    }
   ],
   "source": [
    "list_matrix = []\n",
    "i = 0\n",
    "for x in data:\n",
    "    list_matrix.append(x[i])\n",
    "    i += 1\n",
    "print(sum(list_matrix))"
   ]
  },
  {
   "cell_type": "code",
   "execution_count": 71,
   "metadata": {},
   "outputs": [
    {
     "name": "stdout",
     "output_type": "stream",
     "text": [
      "124\n"
     ]
    }
   ],
   "source": [
    "# считаем обратную диагональ\n",
    "data = [\n",
    "    [13, 25, 23, 34],\n",
    "    [45, 32, 44, 47],\n",
    "    [12, 33, 23, 95],\n",
    "    [13, 53, 34, 35]\n",
    "]\n",
    "\n",
    "index = 0\n",
    "sum_ = 0\n",
    "for row in data:\n",
    "    sum_ += row[index-1]\n",
    "    index -= 1\n",
    "print(sum_)"
   ]
  },
  {
   "cell_type": "code",
   "execution_count": 4,
   "metadata": {},
   "outputs": [
    {
     "name": "stdout",
     "output_type": "stream",
     "text": [
      "124\n"
     ]
    }
   ],
   "source": [
    "list_matrix_re = []\n",
    "i = -1\n",
    "for x in data:\n",
    "    list_matrix_re.append(x[i])\n",
    "    i -= 1\n",
    "print(sum(list_matrix_re))"
   ]
  },
  {
   "cell_type": "code",
   "execution_count": 5,
   "metadata": {},
   "outputs": [
    {
     "name": "stdout",
     "output_type": "stream",
     "text": [
      "124\n"
     ]
    }
   ],
   "source": [
    "data = [\n",
    "    [13, 25, 23, 34],\n",
    "    [45, 32, 44, 47],\n",
    "    [12, 33, 23, 95],\n",
    "    [13, 53, 34, 35]\n",
    "]\n",
    "\n",
    "index = -1\n",
    "sum_ = 0\n",
    "for row in data:\n",
    "    sum_ += row[index]\n",
    "    index -= 1\n",
    "print(sum_)"
   ]
  },
  {
   "cell_type": "code",
   "execution_count": 7,
   "metadata": {},
   "outputs": [
    {
     "name": "stdout",
     "output_type": "stream",
     "text": [
      "9\n"
     ]
    }
   ],
   "source": [
    "# Практика. Найдем в тексте слова длинее n букв\n",
    "text = 'Python — высокоуровневый язык программирования, ориентированный на повышение производительности разработчика и читаемости кода.'\n",
    "\n",
    "sum_ = 0\n",
    "\n",
    "for word in text.split():\n",
    "    if len(word) > 4:\n",
    "        sum_ += 1\n",
    "print(sum_)"
   ]
  },
  {
   "cell_type": "code",
   "execution_count": 8,
   "metadata": {},
   "outputs": [
    {
     "data": {
      "text/plain": [
       "['Python',\n",
       " '—',\n",
       " 'высокоуровневый',\n",
       " 'язык',\n",
       " 'программирования,',\n",
       " 'ориентированный',\n",
       " 'на',\n",
       " 'повышение',\n",
       " 'производительности',\n",
       " 'разработчика',\n",
       " 'и',\n",
       " 'читаемости',\n",
       " 'кода.']"
      ]
     },
     "execution_count": 8,
     "metadata": {},
     "output_type": "execute_result"
    }
   ],
   "source": [
    "text.split()"
   ]
  },
  {
   "cell_type": "code",
   "execution_count": 11,
   "metadata": {},
   "outputs": [],
   "source": [
    "# Практика. Вывести фамилиии построчно с указанием профессии\n",
    "\n",
    "professions = ['IT', 'Физика', 'Математика']\n",
    "persons = [['Гейтс', 'Джобс', 'Возняк'], ['Эйнштейн', 'Фейнман'], ['Эвклид', 'Ньютон']]\n",
    "\n",
    "# IT:\n",
    "# Гейтс\n",
    "# Джобс\n",
    "# Возняк\n",
    "\n",
    "# Физика:\n",
    "# Эйнштейн\n",
    "# ..."
   ]
  },
  {
   "cell_type": "code",
   "execution_count": 13,
   "metadata": {},
   "outputs": [
    {
     "name": "stdout",
     "output_type": "stream",
     "text": [
      "IT:\n",
      "Гейтс\n",
      "Джобс\n",
      "Возняк\n",
      "\n",
      "Физика:\n",
      "Эйнштейн\n",
      "Фейнман\n",
      "\n",
      "Математика:\n",
      "Эвклид\n",
      "Ньютон\n",
      "\n"
     ]
    }
   ],
   "source": [
    "for prof, person_list in zip(professions, persons):\n",
    "    print(f'{prof}:')    \n",
    "    for person in person_list:\n",
    "        print(person)\n",
    "    print()"
   ]
  },
  {
   "cell_type": "code",
   "execution_count": 14,
   "metadata": {},
   "outputs": [
    {
     "name": "stdout",
     "output_type": "stream",
     "text": [
      "IT :\n",
      "\n",
      "Гейтс\n",
      "Джобс\n",
      "Возняк\n",
      "Физика :\n",
      "\n",
      "Гейтс\n",
      "Джобс\n",
      "Возняк\n",
      "Математика :\n",
      "\n",
      "Гейтс\n",
      "Джобс\n",
      "Возняк\n"
     ]
    }
   ],
   "source": [
    "i = 0\n",
    "for prof_elem in professions:\n",
    "    print(prof_elem, \":\\n\")\n",
    "    for pers_elem in persons[i]:\n",
    "        print(pers_elem)\n",
    "        i += 1\n",
    "    i = 0"
   ]
  },
  {
   "cell_type": "code",
   "execution_count": null,
   "metadata": {},
   "outputs": [],
   "source": []
  },
  {
   "cell_type": "code",
   "execution_count": 17,
   "metadata": {},
   "outputs": [
    {
     "data": {
      "text/plain": [
       "['Екатеринбург',\n",
       " 'Москва',\n",
       " ['rdfhg'],\n",
       " 'Санкт-Петербург',\n",
       " 'Норильск',\n",
       " 'Пермь',\n",
       " 'Астрахань']"
      ]
     },
     "execution_count": 17,
     "metadata": {},
     "output_type": "execute_result"
    }
   ],
   "source": [
    "my_list = [['Екатеринбург', 'Москва', ['rdfhg']], ['Санкт-Петербург', 'Норильск'], ['Пермь', 'Астрахань']]\n",
    "\n",
    "sum(my_list, [])"
   ]
  },
  {
   "cell_type": "code",
   "execution_count": 19,
   "metadata": {},
   "outputs": [
    {
     "name": "stdout",
     "output_type": "stream",
     "text": [
      "Списки уникальны\n"
     ]
    }
   ],
   "source": [
    "# Практика. Узнаем, есть ли в двух списках общие элементы\n",
    "\n",
    "list_1 = [1, 2, 3, 4]\n",
    "list_2 = [5, 6, 7, 8, 9]\n",
    "\n",
    "result = False\n",
    "for el in list_1:\n",
    "    for el_2 in list_2:\n",
    "        if el == el_2:\n",
    "            result = True\n",
    "            \n",
    "if result:\n",
    "    print('В списке есть общие элементы')\n",
    "else:\n",
    "    print('Списки уникальны')"
   ]
  },
  {
   "cell_type": "code",
   "execution_count": null,
   "metadata": {},
   "outputs": [],
   "source": []
  },
  {
   "cell_type": "code",
   "execution_count": null,
   "metadata": {},
   "outputs": [],
   "source": []
  }
 ],
 "metadata": {
  "kernelspec": {
   "display_name": "Python 3",
   "language": "python",
   "name": "python3"
  },
  "language_info": {
   "codemirror_mode": {
    "name": "ipython",
    "version": 3
   },
   "file_extension": ".py",
   "mimetype": "text/x-python",
   "name": "python",
   "nbconvert_exporter": "python",
   "pygments_lexer": "ipython3",
   "version": "3.8.3"
  }
 },
 "nbformat": 4,
 "nbformat_minor": 4
}

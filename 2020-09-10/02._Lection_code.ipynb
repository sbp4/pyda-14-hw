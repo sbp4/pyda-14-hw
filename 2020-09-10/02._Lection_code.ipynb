{
 "cells": [
  {
   "cell_type": "code",
   "execution_count": 1,
   "metadata": {},
   "outputs": [
    {
     "name": "stdout",
     "output_type": "stream",
     "text": [
      "Hellow World\n"
     ]
    }
   ],
   "source": [
    "print ('Hellow World')"
   ]
  },
  {
   "cell_type": "markdown",
   "metadata": {},
   "source": [
    "# Арифметические операции\n",
    "* сложение +\n",
    "* вычитание -"
   ]
  },
  {
   "cell_type": "markdown",
   "metadata": {},
   "source": [
    "# Условные конструкции"
   ]
  },
  {
   "cell_type": "code",
   "execution_count": 6,
   "metadata": {},
   "outputs": [
    {
     "name": "stdout",
     "output_type": "stream",
     "text": [
      "Значение переменной a меньше b\n"
     ]
    }
   ],
   "source": [
    "a = 1\n",
    "b = 2\n",
    "\n",
    "if a < b:\n",
    "    print ('Значение переменной a меньше b')"
   ]
  },
  {
   "cell_type": "code",
   "execution_count": 13,
   "metadata": {},
   "outputs": [],
   "source": [
    "#проверка четности числа, путем вычисления остатка от деления на число '2'"
   ]
  },
  {
   "cell_type": "code",
   "execution_count": 17,
   "metadata": {},
   "outputs": [
    {
     "name": "stdout",
     "output_type": "stream",
     "text": [
      "5 - нечетное число\n"
     ]
    }
   ],
   "source": [
    "x = 5\n",
    "if x % 2 == 0:\n",
    "    print (x, '- четное число')\n",
    "else:\n",
    "    print (x, '- нечетное число')"
   ]
  },
  {
   "cell_type": "code",
   "execution_count": 19,
   "metadata": {},
   "outputs": [],
   "source": [
    "#оповещение клиента об оплате кредита"
   ]
  },
  {
   "cell_type": "code",
   "execution_count": 26,
   "metadata": {},
   "outputs": [],
   "source": [
    "money_sum = 5\n",
    "sum_to_pay = 10\n",
    "\n",
    "today_is_holiday = False\n",
    "days_to_pay = 15"
   ]
  },
  {
   "cell_type": "code",
   "execution_count": 36,
   "metadata": {},
   "outputs": [],
   "source": [
    "should_notify = (money_sum < sum_to_pay and ((days_to_pay < 10 and not today_is_holiday) or days_to_pay == 15))"
   ]
  },
  {
   "cell_type": "code",
   "execution_count": 40,
   "metadata": {},
   "outputs": [
    {
     "name": "stdout",
     "output_type": "stream",
     "text": [
      "в танкисты\n",
      "конец программы\n"
     ]
    }
   ],
   "source": [
    "height = 140\n",
    "if height < 170:\n",
    "    print('в танкисты')\n",
    "    \n",
    "print ('конец программы')"
   ]
  },
  {
   "cell_type": "code",
   "execution_count": 51,
   "metadata": {},
   "outputs": [
    {
     "name": "stdout",
     "output_type": "stream",
     "text": [
      "в другие войска\n",
      "конец программы\n"
     ]
    }
   ],
   "source": [
    "if height > 170:\n",
    "    print('в танкисты')\n",
    "else:\n",
    "    print ('в другие войска')\n",
    "\n",
    "print ('конец программы')"
   ]
  },
  {
   "cell_type": "code",
   "execution_count": 73,
   "metadata": {},
   "outputs": [
    {
     "name": "stdout",
     "output_type": "stream",
     "text": [
      "в десантники\n",
      "конец программы\n"
     ]
    }
   ],
   "source": [
    "height = 190\n",
    "if height < 170:\n",
    "    print('в танкисты')\n",
    "elif height < 200:\n",
    "    print ('в десантники')\n",
    "else:\n",
    "    print ('в другие войска')\n",
    "\n",
    "print ('конец программы')"
   ]
  }
 ],
 "metadata": {
  "kernelspec": {
   "display_name": "Python 3",
   "language": "python",
   "name": "python3"
  },
  "language_info": {
   "codemirror_mode": {
    "name": "ipython",
    "version": 3
   },
   "file_extension": ".py",
   "mimetype": "text/x-python",
   "name": "python",
   "nbconvert_exporter": "python",
   "pygments_lexer": "ipython3",
   "version": "3.8.3"
  }
 },
 "nbformat": 4,
 "nbformat_minor": 2
}
